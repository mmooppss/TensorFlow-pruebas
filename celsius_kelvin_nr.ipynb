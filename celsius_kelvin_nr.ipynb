{
  "nbformat": 4,
  "nbformat_minor": 0,
  "metadata": {
    "colab": {
      "provenance": []
    },
    "kernelspec": {
      "name": "python3",
      "display_name": "Python 3"
    },
    "language_info": {
      "name": "python"
    }
  },
  "cells": [
    {
      "cell_type": "code",
      "execution_count": null,
      "metadata": {
        "id": "xWHVMK6b25h9"
      },
      "outputs": [],
      "source": [
        "import tensorflow as tf\n",
        "import numpy as np\n"
      ]
    },
    {
      "cell_type": "code",
      "source": [
        "celsius = np.array([-50,45,2,27,89,-11,0], dtype = float)\n",
        "kelvin = np.array([223.15,318.15,275.15,300.15,362.15,262.15,273.15], dtype = float)"
      ],
      "metadata": {
        "id": "rHOhGYKz3N62"
      },
      "execution_count": null,
      "outputs": []
    },
    {
      "cell_type": "code",
      "source": [
        "#capa = tf.keras.layers.Dense(units=1, input_shape= [1])\n",
        "#modelo = tf.keras.Sequential([capa])\n",
        "oculta1 = tf.keras.layers.Dense(units=3, input_shape=[1])\n",
        "oculta2 = tf.keras.layers.Dense(units=3)\n",
        "salida = tf.keras.layers.Dense(units=1)\n",
        "modelo = tf.keras.Sequential([oculta1,oculta2,salida])"
      ],
      "metadata": {
        "id": "pNopl8q-4qKa"
      },
      "execution_count": null,
      "outputs": []
    },
    {
      "cell_type": "code",
      "source": [
        "modelo.compile(\n",
        "    optimizer=tf.keras.optimizers.Adam(0.1),\n",
        "    loss= 'mean_squared_error'\n",
        ")"
      ],
      "metadata": {
        "id": "oGqHyjYU5RDC"
      },
      "execution_count": null,
      "outputs": []
    },
    {
      "cell_type": "code",
      "source": [
        "print(\"Comenzando entrenamiento pa\")\n",
        "historial = modelo.fit(celsius,kelvin,epochs=1000,verbose=False)\n",
        "print(\"Modelo entrenado\")"
      ],
      "metadata": {
        "colab": {
          "base_uri": "https://localhost:8080/"
        },
        "id": "DlhOqWJ-5uPy",
        "outputId": "2a78012c-d1d2-49f1-d059-dc25e9c29481"
      },
      "execution_count": null,
      "outputs": [
        {
          "output_type": "stream",
          "name": "stdout",
          "text": [
            "Comenzando entrenamiento pa\n",
            "Modelo entrenado\n"
          ]
        }
      ]
    },
    {
      "cell_type": "code",
      "source": [
        "import matplotlib.pyplot as plt\n",
        "plt.xlabel(\"n Epoca\")\n",
        "plt.ylabel(\"Magnitud de perdida\")\n",
        "plt.plot(historial.history[\"loss\"])"
      ],
      "metadata": {
        "colab": {
          "base_uri": "https://localhost:8080/",
          "height": 467
        },
        "id": "awfLYcoZ6Uxe",
        "outputId": "33a3a47c-19a1-4c9a-a2f0-4562bcc49a2b"
      },
      "execution_count": null,
      "outputs": [
        {
          "output_type": "execute_result",
          "data": {
            "text/plain": [
              "[<matplotlib.lines.Line2D at 0x7f771ae8ad90>]"
            ]
          },
          "metadata": {},
          "execution_count": 33
        },
        {
          "output_type": "display_data",
          "data": {
            "text/plain": [
              "<Figure size 640x480 with 1 Axes>"
            ],
            "image/png": "[encoded data removed]"
          },
          "metadata": {}
        }
      ]
    },
    {
      "cell_type": "code",
      "source": [
        "print(\"Hagamos una prediccion\")\n",
        "resultado = modelo.predict([100])\n",
        "print(\"El resultado es\"+ str(resultado) + \"kelvin\")"
      ],
      "metadata": {
        "colab": {
          "base_uri": "https://localhost:8080/"
        },
        "id": "ddSvnc6S7G8p",
        "outputId": "5fd99893-05bf-4255-fc03-9abbbfde7efe"
      },
      "execution_count": null,
      "outputs": [
        {
          "output_type": "stream",
          "name": "stdout",
          "text": [
            "Hagamos una prediccion\n",
            "1/1 [==============================] - 0s 70ms/step\n",
            "El resultado es[[373.15094]]kelvin\n"
          ]
        }
      ]
    },
    {
      "cell_type": "code",
      "source": [
        "print(\"Hagamos una prediccion\")\n",
        "resultado = modelo.predict([5])\n",
        "print(\"El resultado es\"+ str(resultado) + \"kelvin\")"
      ],
      "metadata": {
        "colab": {
          "base_uri": "https://localhost:8080/"
        },
        "id": "l4fZfyvo8DVI",
        "outputId": "2f62d79e-d8a8-417b-ed1b-163296098c3b"
      },
      "execution_count": null,
      "outputs": [
        {
          "output_type": "stream",
          "name": "stdout",
          "text": [
            "Hagamos una prediccion\n",
            "1/1 [==============================] - 0s 34ms/step\n",
            "El resultado es[[278.15005]]kelvin\n"
          ]
        }
      ]
    },
    {
      "cell_type": "code",
      "source": [
        "#print(capa.get_weights())\n",
        "print(oculta1.get_weights())\n",
        "print(oculta2.get_weights())\n",
        "print(salida.get_weights())"
      ],
      "metadata": {
        "colab": {
          "base_uri": "https://localhost:8080/"
        },
        "id": "Vzy6Edtp8Pvt",
        "outputId": "c05eb92e-9a79-4008-ddd7-0d72cf3f4cc9"
      },
      "execution_count": null,
      "outputs": [
        {
          "output_type": "stream",
          "name": "stdout",
          "text": [
            "[array([[0.7134639 , 0.40872163, 0.7887666 ]], dtype=float32), array([ 5.9842305,  6.0161242, -5.556227 ], dtype=float32)]\n",
            "[array([[-2.4672847 , -2.1117942 ,  0.21311195],\n",
            "       [-2.2985952 , -2.2926493 ,  0.19612674],\n",
            "       [ 2.8303812 ,  3.2261589 , -0.37596115]], dtype=float32), array([-5.795704 , -6.0605583, -1.8463442], dtype=float32)]\n",
            "[array([[-2.699841  ],\n",
            "       [-2.637229  ],\n",
            "       [-0.07146247]], dtype=float32), array([5.080286], dtype=float32)]\n"
          ]
        }
      ]
    }
  ]
}